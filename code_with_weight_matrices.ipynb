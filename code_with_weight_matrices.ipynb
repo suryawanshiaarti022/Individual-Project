{
  "nbformat": 4,
  "nbformat_minor": 0,
  "metadata": {
    "colab": {
      "provenance": [],
      "authorship_tag": "ABX9TyM14TcaudoPcwWGdBKL/T4k",
      "include_colab_link": true
    },
    "kernelspec": {
      "name": "python3",
      "display_name": "Python 3"
    },
    "language_info": {
      "name": "python"
    }
  },
  "cells": [
    {
      "cell_type": "markdown",
      "metadata": {
        "id": "view-in-github",
        "colab_type": "text"
      },
      "source": [
        "<a href=\"https://colab.research.google.com/github/suryawanshiaarti022/Individual-Project/blob/main/code_with_weight_matrices.ipynb\" target=\"_parent\"><img src=\"https://colab.research.google.com/assets/colab-badge.svg\" alt=\"Open In Colab\"/></a>"
      ]
    },
    {
      "cell_type": "markdown",
      "source": [
        "## Importing Libraries"
      ],
      "metadata": {
        "id": "Gj5vXeHJdPq_"
      }
    },
    {
      "cell_type": "code",
      "execution_count": null,
      "metadata": {
        "id": "ROk6XX7gJYfT"
      },
      "outputs": [],
      "source": [
        "import pandas as pd\n",
        "import numpy as np\n",
        "import torch\n",
        "import torch.nn as nn\n",
        "import torch.optim as optim\n",
        "from torch.utils.data import DataLoader, TensorDataset\n",
        "from sklearn.preprocessing import StandardScaler\n",
        "from sklearn.model_selection import train_test_split\n"
      ]
    },
    {
      "cell_type": "markdown",
      "source": [
        "## Loading the Dataset"
      ],
      "metadata": {
        "id": "ksKJDfh8dK-_"
      }
    },
    {
      "cell_type": "code",
      "source": [
        "# loading the Zoo dataset into a pandas DataFrame called zoo_data\n",
        "column_names = ['animal_name', 'hair', 'feathers', 'eggs', 'milk', 'airborne', 'aquatic',\n",
        "                'predator', 'toothed','backbone', 'breathes', 'venomous', 'fins', 'legs',\n",
        "                'tail', 'domestic', 'catsize', 'class_type']\n",
        "zoo_data = pd.read_csv('zoo.csv',names=column_names)"
      ],
      "metadata": {
        "id": "aSiD_FZXdHSA"
      },
      "execution_count": null,
      "outputs": []
    },
    {
      "cell_type": "markdown",
      "source": [
        "## Data Preprocessing"
      ],
      "metadata": {
        "id": "79cNOUJBdEfp"
      }
    },
    {
      "cell_type": "markdown",
      "source": [
        "##### removing the first row of the dataset"
      ],
      "metadata": {
        "id": "KuyAVRoocQoz"
      }
    },
    {
      "cell_type": "code",
      "source": [
        "# Display the first few rows of the dataframe\n",
        "zoo_data = zoo_data.iloc[1:,:]\n",
        "print(zoo_data.head())"
      ],
      "metadata": {
        "colab": {
          "base_uri": "https://localhost:8080/"
        },
        "id": "_iAZYZhXJe5G",
        "outputId": "695177a9-5c96-490a-ad5e-9f33a6dc3335"
      },
      "execution_count": null,
      "outputs": [
        {
          "output_type": "stream",
          "name": "stdout",
          "text": [
            "  animal_name hair feathers eggs milk airborne aquatic predator toothed  \\\n",
            "1    aardvark    1        0    0    1        0       0        1       1   \n",
            "2    antelope    1        0    0    1        0       0        0       1   \n",
            "3        bass    0        0    1    0        0       1        1       1   \n",
            "4        bear    1        0    0    1        0       0        1       1   \n",
            "5        boar    1        0    0    1        0       0        1       1   \n",
            "\n",
            "  backbone breathes venomous fins legs tail domestic catsize class_type  \n",
            "1        1        1        0    0    4    0        0       1          1  \n",
            "2        1        1        0    0    4    1        0       1          1  \n",
            "3        1        0        0    1    0    1        0       0          4  \n",
            "4        1        1        0    0    4    0        0       1          1  \n",
            "5        1        1        0    0    4    1        0       1          1  \n"
          ]
        }
      ]
    },
    {
      "cell_type": "markdown",
      "source": [
        "##### Converting the 'legs' column to numeric values because it's essential for mathematical operations later"
      ],
      "metadata": {
        "id": "RXLlw9bocaNn"
      }
    },
    {
      "cell_type": "code",
      "source": [
        "zoo_data[\"legs\"] = pd.to_numeric(zoo_data[\"legs\"])"
      ],
      "metadata": {
        "id": "D6qOPDImJe2s"
      },
      "execution_count": null,
      "outputs": []
    },
    {
      "cell_type": "markdown",
      "source": [
        "##### Creating a new binary feature indicating whether an animal has legs or not. This feature will be used to apply custom logic in the neural network later."
      ],
      "metadata": {
        "id": "lDJK3rhMclR1"
      }
    },
    {
      "cell_type": "code",
      "source": [
        "# Binarize the 'legs' feature: 1 if legs > 0, else 0\n",
        "zoo_data['binary_legs'] = (zoo_data['legs'] > 0).astype(int)\n",
        "print(zoo_data.head())"
      ],
      "metadata": {
        "colab": {
          "base_uri": "https://localhost:8080/"
        },
        "id": "ejpUw1_KcoeE",
        "outputId": "e75cd553-238f-4cee-9ef4-47a1fe6b64f9"
      },
      "execution_count": null,
      "outputs": [
        {
          "output_type": "stream",
          "name": "stdout",
          "text": [
            "  animal_name hair feathers eggs milk airborne aquatic predator toothed  \\\n",
            "1    aardvark    1        0    0    1        0       0        1       1   \n",
            "2    antelope    1        0    0    1        0       0        0       1   \n",
            "3        bass    0        0    1    0        0       1        1       1   \n",
            "4        bear    1        0    0    1        0       0        1       1   \n",
            "5        boar    1        0    0    1        0       0        1       1   \n",
            "\n",
            "  backbone breathes venomous fins  legs tail domestic catsize class_type  \\\n",
            "1        1        1        0    0     4    0        0       1          1   \n",
            "2        1        1        0    0     4    1        0       1          1   \n",
            "3        1        0        0    1     0    1        0       0          4   \n",
            "4        1        1        0    0     4    0        0       1          1   \n",
            "5        1        1        0    0     4    1        0       1          1   \n",
            "\n",
            "   binary_legs  \n",
            "1            1  \n",
            "2            1  \n",
            "3            0  \n",
            "4            1  \n",
            "5            1  \n"
          ]
        }
      ]
    },
    {
      "cell_type": "markdown",
      "source": [
        "This loop is creating seven new binary columns in the dataset, each corresponding to one of the seven classes. If an animal belongs to class i, then class_i will be 1; otherwise, it will be 0."
      ],
      "metadata": {
        "id": "S4xhiwUhcyP4"
      }
    },
    {
      "cell_type": "code",
      "source": [
        "# Convert the target to a binary classification for each class\n",
        "for i in range(1, 8):\n",
        "    zoo_data[f'class_{i}'] = (zoo_data['class_type'] == i).astype(int)\n",
        "\n",
        "print(zoo_data.head())"
      ],
      "metadata": {
        "colab": {
          "base_uri": "https://localhost:8080/"
        },
        "id": "bs_Zr2m-Jez_",
        "outputId": "f0ecdd07-10a9-498f-d020-1031e6d92cd1"
      },
      "execution_count": null,
      "outputs": [
        {
          "output_type": "stream",
          "name": "stdout",
          "text": [
            "  animal_name hair feathers eggs milk airborne aquatic predator toothed  \\\n",
            "1    aardvark    1        0    0    1        0       0        1       1   \n",
            "2    antelope    1        0    0    1        0       0        0       1   \n",
            "3        bass    0        0    1    0        0       1        1       1   \n",
            "4        bear    1        0    0    1        0       0        1       1   \n",
            "5        boar    1        0    0    1        0       0        1       1   \n",
            "\n",
            "  backbone  ... catsize class_type binary_legs  class_1 class_2 class_3  \\\n",
            "1        1  ...       1          1           1        0       0       0   \n",
            "2        1  ...       1          1           1        0       0       0   \n",
            "3        1  ...       0          4           0        0       0       0   \n",
            "4        1  ...       1          1           1        0       0       0   \n",
            "5        1  ...       1          1           1        0       0       0   \n",
            "\n",
            "  class_4 class_5  class_6  class_7  \n",
            "1       0       0        0        0  \n",
            "2       0       0        0        0  \n",
            "3       0       0        0        0  \n",
            "4       0       0        0        0  \n",
            "5       0       0        0        0  \n",
            "\n",
            "[5 rows x 26 columns]\n"
          ]
        }
      ]
    },
    {
      "cell_type": "markdown",
      "source": [
        "## Feature Selection"
      ],
      "metadata": {
        "id": "CtnPIF05c9dQ"
      }
    },
    {
      "cell_type": "markdown",
      "source": [
        "Separating the dataset into features (X) and targets (y). We are excluding features like 'animal_name', 'class_type', 'legs', and the binary class columns."
      ],
      "metadata": {
        "id": "9-W0eV9Xc9XH"
      }
    },
    {
      "cell_type": "code",
      "source": [
        "# Split the data into features and target\n",
        "X = zoo_data.drop(['animal_name', 'class_type', 'legs'] + [f'class_{i}' for i in range(1, 8)], axis=1)\n",
        "y = zoo_data[[f'class_{i}' for i in range(1, 8)]]\n",
        "\n",
        "print(X.head())"
      ],
      "metadata": {
        "colab": {
          "base_uri": "https://localhost:8080/"
        },
        "id": "6PnvrWDEJexa",
        "outputId": "644a7f4d-d38e-4acc-c935-e6634fa4804e"
      },
      "execution_count": null,
      "outputs": [
        {
          "output_type": "stream",
          "name": "stdout",
          "text": [
            "  hair feathers eggs milk airborne aquatic predator toothed backbone breathes  \\\n",
            "1    1        0    0    1        0       0        1       1        1        1   \n",
            "2    1        0    0    1        0       0        0       1        1        1   \n",
            "3    0        0    1    0        0       1        1       1        1        0   \n",
            "4    1        0    0    1        0       0        1       1        1        1   \n",
            "5    1        0    0    1        0       0        1       1        1        1   \n",
            "\n",
            "  venomous fins tail domestic catsize  binary_legs  \n",
            "1        0    0    0        0       1            1  \n",
            "2        0    0    1        0       1            1  \n",
            "3        0    1    1        0       0            0  \n",
            "4        0    0    0        0       1            1  \n",
            "5        0    0    1        0       1            1  \n"
          ]
        }
      ]
    },
    {
      "cell_type": "code",
      "source": [
        "print(y.head())"
      ],
      "metadata": {
        "colab": {
          "base_uri": "https://localhost:8080/"
        },
        "id": "-1tsA6J6Wqfs",
        "outputId": "8d27ee73-f5e5-4cbf-cfb7-97e1e5bb56b7"
      },
      "execution_count": null,
      "outputs": [
        {
          "output_type": "stream",
          "name": "stdout",
          "text": [
            "   class_1  class_2  class_3  class_4  class_5  class_6  class_7\n",
            "1        0        0        0        0        0        0        0\n",
            "2        0        0        0        0        0        0        0\n",
            "3        0        0        0        0        0        0        0\n",
            "4        0        0        0        0        0        0        0\n",
            "5        0        0        0        0        0        0        0\n"
          ]
        }
      ]
    },
    {
      "cell_type": "markdown",
      "source": [
        "## Data Splitting and Normalization"
      ],
      "metadata": {
        "id": "0bOBlJind2sD"
      }
    },
    {
      "cell_type": "code",
      "source": [
        "# Split the dataset into training and test sets\n",
        "X_train, X_test, y_train, y_test = train_test_split(X, y, test_size=0.3, random_state=42)"
      ],
      "metadata": {
        "id": "8Qrx1h7hJeuZ"
      },
      "execution_count": null,
      "outputs": []
    },
    {
      "cell_type": "markdown",
      "source": [
        "Normalizing the features to have a mean of 0 and a standard deviation of 1, which can help the neural network learn more effectively."
      ],
      "metadata": {
        "id": "34L34LwId-bs"
      }
    },
    {
      "cell_type": "code",
      "source": [
        "# Normalize the features\n",
        "scaler = StandardScaler()\n",
        "X_train = scaler.fit_transform(X_train)\n",
        "X_test = scaler.transform(X_test)"
      ],
      "metadata": {
        "id": "wsiqOH9bJerm"
      },
      "execution_count": null,
      "outputs": []
    },
    {
      "cell_type": "markdown",
      "source": [
        "## Conversion to PyTorch Tensors"
      ],
      "metadata": {
        "id": "rK87H4UVeF9x"
      }
    },
    {
      "cell_type": "markdown",
      "source": [
        "Converting the NumPy arrays to PyTorch tensors, which are required for training the neural network."
      ],
      "metadata": {
        "id": "QXjUT0ZzeNV4"
      }
    },
    {
      "cell_type": "code",
      "source": [
        "# Convert the data to PyTorch tensors\n",
        "X_train_tensor = torch.tensor(X_train, dtype=torch.float32)\n",
        "X_test_tensor = torch.tensor(X_test, dtype=torch.float32)\n",
        "y_train_tensor = torch.tensor(y_train.values, dtype=torch.float32)\n",
        "y_test_tensor = torch.tensor(y_test.values, dtype=torch.float32)"
      ],
      "metadata": {
        "id": "CA8w9OHGJeoz"
      },
      "execution_count": null,
      "outputs": []
    },
    {
      "cell_type": "markdown",
      "source": [
        "## DataLoader Creation"
      ],
      "metadata": {
        "id": "DQPl6mTFeVJ0"
      }
    },
    {
      "cell_type": "markdown",
      "source": [
        "Creating a TensorDataset and DataLoader which batches the data and provides it to the neural network during training."
      ],
      "metadata": {
        "id": "mAVHZTGpeapD"
      }
    },
    {
      "cell_type": "code",
      "source": [
        "# Create TensorDataset and DataLoader\n",
        "train_dataset = TensorDataset(X_train_tensor, y_train_tensor)\n",
        "train_loader = DataLoader(dataset=train_dataset, batch_size=64, shuffle=True)"
      ],
      "metadata": {
        "id": "3qtF6FC3JemH"
      },
      "execution_count": null,
      "outputs": []
    },
    {
      "cell_type": "markdown",
      "source": [
        "## Neural Network Architecture"
      ],
      "metadata": {
        "id": "ga5y_sVcef5P"
      }
    },
    {
      "cell_type": "markdown",
      "source": [
        "Defining a custom Multilayer Perceptron (MLP) with two hidden layers and an output layer. It also includes a ReLU activation function and introduces custom logic to bias the network towards classes 4 and 7 based on the 'binary_legs' feature."
      ],
      "metadata": {
        "id": "Hb8XkgFPexku"
      }
    },
    {
      "cell_type": "code",
      "source": [
        "# Define the MLP architecture with the custom logic gate\n",
        "class CustomMLP(nn.Module):\n",
        "    def __init__(self, input_size, hidden_size, num_classes):\n",
        "        super(CustomMLP, self).__init__()\n",
        "        self.hidden1 = nn.Linear(input_size, hidden_size)\n",
        "        self.hidden2 = nn.Linear(hidden_size, hidden_size)\n",
        "        self.output = nn.Linear(hidden_size, num_classes)\n",
        "        self.relu = nn.ReLU()\n",
        "\n",
        "    def forward(self, x):\n",
        "      out = self.hidden1(x)\n",
        "      out = self.relu(out)\n",
        "\n",
        "      # Custom logic to bias towards classes 4 (Fish) and 7 (Invertebrates)\n",
        "      legs = x[:, -1].unsqueeze(1)  # Isolate the 'binary_legs' feature\n",
        "      # Create a mask for the custom logic\n",
        "      # This assumes that the last two neurons in your hidden layer correspond to classes 4 and 7\n",
        "      custom_logic_mask = torch.zeros_like(out)\n",
        "      custom_logic_mask[:, -2] = (legs < 1).float().squeeze() * 10.0  # Bias for class 4\n",
        "      custom_logic_mask[:, -1] = (legs < 1).float().squeeze() * 10.0  # Bias for class 7\n",
        "      out = out + custom_logic_mask\n",
        "\n",
        "      out = self.hidden2(out)\n",
        "      out = self.relu(out)\n",
        "      out = self.output(out)\n",
        "      return out"
      ],
      "metadata": {
        "id": "DmEx6ibGU-MO"
      },
      "execution_count": null,
      "outputs": []
    },
    {
      "cell_type": "markdown",
      "source": [
        "## Training Preparation"
      ],
      "metadata": {
        "id": "f7SEelNQe7RD"
      }
    },
    {
      "cell_type": "markdown",
      "source": [
        "Instantiating the neural network model, defining the loss function (CrossEntropyLoss for multi-class classification), and setting up the optimizer (Adam) with a learning rate of 0.001."
      ],
      "metadata": {
        "id": "eyjbnSFNe_st"
      }
    },
    {
      "cell_type": "code",
      "source": [
        "# Initialize the model, loss criterion, and optimizer\n",
        "model = CustomMLP(input_size=X_train.shape[1], hidden_size=10, num_classes=7)\n",
        "loss_criterion = nn.CrossEntropyLoss()\n",
        "optimizer = optim.Adam(model.parameters(), lr=0.001)"
      ],
      "metadata": {
        "id": "yq6UnWySU-JI"
      },
      "execution_count": null,
      "outputs": []
    },
    {
      "cell_type": "markdown",
      "source": [
        "## Training Loop"
      ],
      "metadata": {
        "id": "rvmTiXs8fH-9"
      }
    },
    {
      "cell_type": "markdown",
      "source": [
        "Defining the training loop that iterates over the dataset multiple times (epochs), feeds the data through the model, calculates the loss, performs backpropagation, and updates the model's weights."
      ],
      "metadata": {
        "id": "wL9DrMbjfLWJ"
      }
    },
    {
      "cell_type": "code",
      "source": [
        "# Training Loop\n",
        "def train(model, data_loader, loss_criterion, optimizer, num_epochs):\n",
        "    for epoch in range(num_epochs):\n",
        "        for inputs, targets in data_loader:\n",
        "            optimizer.zero_grad()\n",
        "            outputs = model(inputs)\n",
        "            loss = loss_criterion(outputs, targets)\n",
        "            loss.backward()\n",
        "            optimizer.step()\n",
        "            if epoch % 10 == 0:\n",
        "                print(f'Epoch {epoch+1}/{num_epochs}, Loss: {loss.item()}')\n"
      ],
      "metadata": {
        "id": "iy3e0qv0U-GW"
      },
      "execution_count": null,
      "outputs": []
    },
    {
      "cell_type": "markdown",
      "source": [
        "## Model Training"
      ],
      "metadata": {
        "id": "F72rKLpxfXBQ"
      }
    },
    {
      "cell_type": "markdown",
      "source": [
        "Starting the training process with 100 epochs."
      ],
      "metadata": {
        "id": "MFjRgGYQfaTD"
      }
    },
    {
      "cell_type": "code",
      "source": [
        "# Training the model\n",
        "num_epochs = 100\n",
        "train(model, train_loader, loss_criterion, optimizer, num_epochs)"
      ],
      "metadata": {
        "colab": {
          "base_uri": "https://localhost:8080/"
        },
        "id": "Y358mbK3U-DF",
        "outputId": "0c57cb66-8116-413b-8dc3-af91ecdb8e08"
      },
      "execution_count": null,
      "outputs": [
        {
          "output_type": "stream",
          "name": "stdout",
          "text": [
            "Epoch 1/100, Loss: -0.0\n",
            "Epoch 1/100, Loss: -0.0\n",
            "Epoch 11/100, Loss: -0.0\n",
            "Epoch 11/100, Loss: -0.0\n",
            "Epoch 21/100, Loss: -0.0\n",
            "Epoch 21/100, Loss: -0.0\n",
            "Epoch 31/100, Loss: -0.0\n",
            "Epoch 31/100, Loss: -0.0\n",
            "Epoch 41/100, Loss: -0.0\n",
            "Epoch 41/100, Loss: -0.0\n",
            "Epoch 51/100, Loss: -0.0\n",
            "Epoch 51/100, Loss: -0.0\n",
            "Epoch 61/100, Loss: -0.0\n",
            "Epoch 61/100, Loss: -0.0\n",
            "Epoch 71/100, Loss: -0.0\n",
            "Epoch 71/100, Loss: -0.0\n",
            "Epoch 81/100, Loss: -0.0\n",
            "Epoch 81/100, Loss: -0.0\n",
            "Epoch 91/100, Loss: -0.0\n",
            "Epoch 91/100, Loss: -0.0\n"
          ]
        }
      ]
    },
    {
      "cell_type": "markdown",
      "source": [
        "## Prediction Function"
      ],
      "metadata": {
        "id": "tjHEZK9dfeST"
      }
    },
    {
      "cell_type": "markdown",
      "source": [
        "Defining a function to make predictions with the trained model on new inputs."
      ],
      "metadata": {
        "id": "w9fz6k_efhoZ"
      }
    },
    {
      "cell_type": "code",
      "source": [
        "# Prediction Function\n",
        "def predict(model, inputs):\n",
        "    model.eval()\n",
        "    with torch.no_grad():\n",
        "        outputs = model(inputs)\n",
        "    _, predicted = torch.max(outputs.data, 1)\n",
        "    return predicted"
      ],
      "metadata": {
        "id": "fQMuE21GU-AH"
      },
      "execution_count": null,
      "outputs": []
    },
    {
      "cell_type": "markdown",
      "source": [
        "## Test Predictions"
      ],
      "metadata": {
        "id": "yd7ziZytfnr4"
      }
    },
    {
      "cell_type": "markdown",
      "source": [
        "Generating predictions on the test set and adjusts the predicted class indices to match the original 1-7 range."
      ],
      "metadata": {
        "id": "jqDJs-AHfshB"
      }
    },
    {
      "cell_type": "code",
      "source": [
        "# Predict on the test set\n",
        "test_predictions = predict(model, X_test_tensor)\n",
        "# Assuming the original classes were encoded from 1 to 7, we need to adjust predictions by 1\n",
        "test_predictions += 1"
      ],
      "metadata": {
        "id": "7QYCfLrRU99O"
      },
      "execution_count": null,
      "outputs": []
    },
    {
      "cell_type": "markdown",
      "source": [
        "## Conversion to DataFrame"
      ],
      "metadata": {
        "id": "wvuFOGS5frzi"
      }
    },
    {
      "cell_type": "markdown",
      "source": [
        "in the last the predictions are converted back into a Pandas DataFrame for easier analysis and visualization."
      ],
      "metadata": {
        "id": "yZY-0Y3GgE_u"
      }
    },
    {
      "cell_type": "code",
      "source": [
        "# Convert predictions back to a pandas DataFrame (optional)\n",
        "import pandas as pd\n",
        "test_predictions_df = pd.DataFrame(test_predictions.numpy(), columns=['Predicted Class'])\n",
        "test_predictions_df.head()"
      ],
      "metadata": {
        "colab": {
          "base_uri": "https://localhost:8080/",
          "height": 206
        },
        "id": "RaDEjvuKU93l",
        "outputId": "d28b66c7-a565-4908-cf0d-6e07d9b556fe"
      },
      "execution_count": null,
      "outputs": [
        {
          "output_type": "execute_result",
          "data": {
            "text/plain": [
              "   Predicted Class\n",
              "0                7\n",
              "1                7\n",
              "2                7\n",
              "3                7\n",
              "4                7"
            ],
            "text/html": [
              "\n",
              "  <div id=\"df-4530ad90-51ec-4c66-b59c-3ef061a1ee22\" class=\"colab-df-container\">\n",
              "    <div>\n",
              "<style scoped>\n",
              "    .dataframe tbody tr th:only-of-type {\n",
              "        vertical-align: middle;\n",
              "    }\n",
              "\n",
              "    .dataframe tbody tr th {\n",
              "        vertical-align: top;\n",
              "    }\n",
              "\n",
              "    .dataframe thead th {\n",
              "        text-align: right;\n",
              "    }\n",
              "</style>\n",
              "<table border=\"1\" class=\"dataframe\">\n",
              "  <thead>\n",
              "    <tr style=\"text-align: right;\">\n",
              "      <th></th>\n",
              "      <th>Predicted Class</th>\n",
              "    </tr>\n",
              "  </thead>\n",
              "  <tbody>\n",
              "    <tr>\n",
              "      <th>0</th>\n",
              "      <td>7</td>\n",
              "    </tr>\n",
              "    <tr>\n",
              "      <th>1</th>\n",
              "      <td>7</td>\n",
              "    </tr>\n",
              "    <tr>\n",
              "      <th>2</th>\n",
              "      <td>7</td>\n",
              "    </tr>\n",
              "    <tr>\n",
              "      <th>3</th>\n",
              "      <td>7</td>\n",
              "    </tr>\n",
              "    <tr>\n",
              "      <th>4</th>\n",
              "      <td>7</td>\n",
              "    </tr>\n",
              "  </tbody>\n",
              "</table>\n",
              "</div>\n",
              "    <div class=\"colab-df-buttons\">\n",
              "\n",
              "  <div class=\"colab-df-container\">\n",
              "    <button class=\"colab-df-convert\" onclick=\"convertToInteractive('df-4530ad90-51ec-4c66-b59c-3ef061a1ee22')\"\n",
              "            title=\"Convert this dataframe to an interactive table.\"\n",
              "            style=\"display:none;\">\n",
              "\n",
              "  <svg xmlns=\"http://www.w3.org/2000/svg\" height=\"24px\" viewBox=\"0 -960 960 960\">\n",
              "    <path d=\"M120-120v-720h720v720H120Zm60-500h600v-160H180v160Zm220 220h160v-160H400v160Zm0 220h160v-160H400v160ZM180-400h160v-160H180v160Zm440 0h160v-160H620v160ZM180-180h160v-160H180v160Zm440 0h160v-160H620v160Z\"/>\n",
              "  </svg>\n",
              "    </button>\n",
              "\n",
              "  <style>\n",
              "    .colab-df-container {\n",
              "      display:flex;\n",
              "      gap: 12px;\n",
              "    }\n",
              "\n",
              "    .colab-df-convert {\n",
              "      background-color: #E8F0FE;\n",
              "      border: none;\n",
              "      border-radius: 50%;\n",
              "      cursor: pointer;\n",
              "      display: none;\n",
              "      fill: #1967D2;\n",
              "      height: 32px;\n",
              "      padding: 0 0 0 0;\n",
              "      width: 32px;\n",
              "    }\n",
              "\n",
              "    .colab-df-convert:hover {\n",
              "      background-color: #E2EBFA;\n",
              "      box-shadow: 0px 1px 2px rgba(60, 64, 67, 0.3), 0px 1px 3px 1px rgba(60, 64, 67, 0.15);\n",
              "      fill: #174EA6;\n",
              "    }\n",
              "\n",
              "    .colab-df-buttons div {\n",
              "      margin-bottom: 4px;\n",
              "    }\n",
              "\n",
              "    [theme=dark] .colab-df-convert {\n",
              "      background-color: #3B4455;\n",
              "      fill: #D2E3FC;\n",
              "    }\n",
              "\n",
              "    [theme=dark] .colab-df-convert:hover {\n",
              "      background-color: #434B5C;\n",
              "      box-shadow: 0px 1px 3px 1px rgba(0, 0, 0, 0.15);\n",
              "      filter: drop-shadow(0px 1px 2px rgba(0, 0, 0, 0.3));\n",
              "      fill: #FFFFFF;\n",
              "    }\n",
              "  </style>\n",
              "\n",
              "    <script>\n",
              "      const buttonEl =\n",
              "        document.querySelector('#df-4530ad90-51ec-4c66-b59c-3ef061a1ee22 button.colab-df-convert');\n",
              "      buttonEl.style.display =\n",
              "        google.colab.kernel.accessAllowed ? 'block' : 'none';\n",
              "\n",
              "      async function convertToInteractive(key) {\n",
              "        const element = document.querySelector('#df-4530ad90-51ec-4c66-b59c-3ef061a1ee22');\n",
              "        const dataTable =\n",
              "          await google.colab.kernel.invokeFunction('convertToInteractive',\n",
              "                                                    [key], {});\n",
              "        if (!dataTable) return;\n",
              "\n",
              "        const docLinkHtml = 'Like what you see? Visit the ' +\n",
              "          '<a target=\"_blank\" href=https://colab.research.google.com/notebooks/data_table.ipynb>data table notebook</a>'\n",
              "          + ' to learn more about interactive tables.';\n",
              "        element.innerHTML = '';\n",
              "        dataTable['output_type'] = 'display_data';\n",
              "        await google.colab.output.renderOutput(dataTable, element);\n",
              "        const docLink = document.createElement('div');\n",
              "        docLink.innerHTML = docLinkHtml;\n",
              "        element.appendChild(docLink);\n",
              "      }\n",
              "    </script>\n",
              "  </div>\n",
              "\n",
              "\n",
              "<div id=\"df-6f4e48ba-6ec5-4a81-904b-e2fda5f3ee3a\">\n",
              "  <button class=\"colab-df-quickchart\" onclick=\"quickchart('df-6f4e48ba-6ec5-4a81-904b-e2fda5f3ee3a')\"\n",
              "            title=\"Suggest charts.\"\n",
              "            style=\"display:none;\">\n",
              "\n",
              "<svg xmlns=\"http://www.w3.org/2000/svg\" height=\"24px\"viewBox=\"0 0 24 24\"\n",
              "     width=\"24px\">\n",
              "    <g>\n",
              "        <path d=\"M19 3H5c-1.1 0-2 .9-2 2v14c0 1.1.9 2 2 2h14c1.1 0 2-.9 2-2V5c0-1.1-.9-2-2-2zM9 17H7v-7h2v7zm4 0h-2V7h2v10zm4 0h-2v-4h2v4z\"/>\n",
              "    </g>\n",
              "</svg>\n",
              "  </button>\n",
              "\n",
              "<style>\n",
              "  .colab-df-quickchart {\n",
              "      --bg-color: #E8F0FE;\n",
              "      --fill-color: #1967D2;\n",
              "      --hover-bg-color: #E2EBFA;\n",
              "      --hover-fill-color: #174EA6;\n",
              "      --disabled-fill-color: #AAA;\n",
              "      --disabled-bg-color: #DDD;\n",
              "  }\n",
              "\n",
              "  [theme=dark] .colab-df-quickchart {\n",
              "      --bg-color: #3B4455;\n",
              "      --fill-color: #D2E3FC;\n",
              "      --hover-bg-color: #434B5C;\n",
              "      --hover-fill-color: #FFFFFF;\n",
              "      --disabled-bg-color: #3B4455;\n",
              "      --disabled-fill-color: #666;\n",
              "  }\n",
              "\n",
              "  .colab-df-quickchart {\n",
              "    background-color: var(--bg-color);\n",
              "    border: none;\n",
              "    border-radius: 50%;\n",
              "    cursor: pointer;\n",
              "    display: none;\n",
              "    fill: var(--fill-color);\n",
              "    height: 32px;\n",
              "    padding: 0;\n",
              "    width: 32px;\n",
              "  }\n",
              "\n",
              "  .colab-df-quickchart:hover {\n",
              "    background-color: var(--hover-bg-color);\n",
              "    box-shadow: 0 1px 2px rgba(60, 64, 67, 0.3), 0 1px 3px 1px rgba(60, 64, 67, 0.15);\n",
              "    fill: var(--button-hover-fill-color);\n",
              "  }\n",
              "\n",
              "  .colab-df-quickchart-complete:disabled,\n",
              "  .colab-df-quickchart-complete:disabled:hover {\n",
              "    background-color: var(--disabled-bg-color);\n",
              "    fill: var(--disabled-fill-color);\n",
              "    box-shadow: none;\n",
              "  }\n",
              "\n",
              "  .colab-df-spinner {\n",
              "    border: 2px solid var(--fill-color);\n",
              "    border-color: transparent;\n",
              "    border-bottom-color: var(--fill-color);\n",
              "    animation:\n",
              "      spin 1s steps(1) infinite;\n",
              "  }\n",
              "\n",
              "  @keyframes spin {\n",
              "    0% {\n",
              "      border-color: transparent;\n",
              "      border-bottom-color: var(--fill-color);\n",
              "      border-left-color: var(--fill-color);\n",
              "    }\n",
              "    20% {\n",
              "      border-color: transparent;\n",
              "      border-left-color: var(--fill-color);\n",
              "      border-top-color: var(--fill-color);\n",
              "    }\n",
              "    30% {\n",
              "      border-color: transparent;\n",
              "      border-left-color: var(--fill-color);\n",
              "      border-top-color: var(--fill-color);\n",
              "      border-right-color: var(--fill-color);\n",
              "    }\n",
              "    40% {\n",
              "      border-color: transparent;\n",
              "      border-right-color: var(--fill-color);\n",
              "      border-top-color: var(--fill-color);\n",
              "    }\n",
              "    60% {\n",
              "      border-color: transparent;\n",
              "      border-right-color: var(--fill-color);\n",
              "    }\n",
              "    80% {\n",
              "      border-color: transparent;\n",
              "      border-right-color: var(--fill-color);\n",
              "      border-bottom-color: var(--fill-color);\n",
              "    }\n",
              "    90% {\n",
              "      border-color: transparent;\n",
              "      border-bottom-color: var(--fill-color);\n",
              "    }\n",
              "  }\n",
              "</style>\n",
              "\n",
              "  <script>\n",
              "    async function quickchart(key) {\n",
              "      const quickchartButtonEl =\n",
              "        document.querySelector('#' + key + ' button');\n",
              "      quickchartButtonEl.disabled = true;  // To prevent multiple clicks.\n",
              "      quickchartButtonEl.classList.add('colab-df-spinner');\n",
              "      try {\n",
              "        const charts = await google.colab.kernel.invokeFunction(\n",
              "            'suggestCharts', [key], {});\n",
              "      } catch (error) {\n",
              "        console.error('Error during call to suggestCharts:', error);\n",
              "      }\n",
              "      quickchartButtonEl.classList.remove('colab-df-spinner');\n",
              "      quickchartButtonEl.classList.add('colab-df-quickchart-complete');\n",
              "    }\n",
              "    (() => {\n",
              "      let quickchartButtonEl =\n",
              "        document.querySelector('#df-6f4e48ba-6ec5-4a81-904b-e2fda5f3ee3a button');\n",
              "      quickchartButtonEl.style.display =\n",
              "        google.colab.kernel.accessAllowed ? 'block' : 'none';\n",
              "    })();\n",
              "  </script>\n",
              "</div>\n",
              "    </div>\n",
              "  </div>\n"
            ]
          },
          "metadata": {},
          "execution_count": 19
        }
      ]
    },
    {
      "cell_type": "code",
      "source": [],
      "metadata": {
        "id": "Bjfyu7XHxLK4"
      },
      "execution_count": null,
      "outputs": []
    }
  ]
}